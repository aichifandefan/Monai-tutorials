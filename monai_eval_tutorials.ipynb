{
 "cells": [
  {
   "cell_type": "code",
   "execution_count": 1,
   "metadata": {},
   "outputs": [],
   "source": [
    "import logging\n",
    "import os\n",
    "import sys\n",
    "import tempfile\n",
    "from glob import glob\n",
    "\n",
    "import nibabel as nib\n",
    "import numpy as np\n",
    "import torch\n",
    "\n",
    "from monai import config\n",
    "from monai.data import ImageDataset, create_test_image_3d, decollate_batch, DataLoader\n",
    "from monai.inferers import sliding_window_inference\n",
    "from monai.metrics import DiceMetric\n",
    "from monai.networks.nets import UNet\n",
    "from monai.transforms import Activations, EnsureChannelFirst, AsDiscrete, Compose, SaveImage, ScaleIntensity"
   ]
  },
  {
   "cell_type": "code",
   "execution_count": 3,
   "metadata": {},
   "outputs": [],
   "source": [
    "# 创建测试数据集\n",
    "tempdir = 'eval_dataset'\n",
    "for i in range(5):\n",
    "    im, seg = create_test_image_3d(128, 128, 128, num_seg_classes=1)\n",
    "\n",
    "    n = nib.Nifti1Image(im, np.eye(4))\n",
    "    nib.save(n, os.path.join(tempdir, f\"im{i:d}.nii.gz\"))\n",
    "\n",
    "    n = nib.Nifti1Image(seg, np.eye(4))\n",
    "    nib.save(n, os.path.join(tempdir, f\"seg{i:d}.nii.gz\"))"
   ]
  },
  {
   "cell_type": "code",
   "execution_count": 4,
   "metadata": {},
   "outputs": [],
   "source": [
    "images = sorted(glob(os.path.join(tempdir, \"im*.nii.gz\")))\n",
    "segs = sorted(glob(os.path.join(tempdir, \"seg*.nii.gz\")))"
   ]
  },
  {
   "cell_type": "code",
   "execution_count": 6,
   "metadata": {},
   "outputs": [],
   "source": [
    "# 定义图像和分割的变化操作\n",
    "imtrans = Compose([ScaleIntensity(), EnsureChannelFirst()])\n",
    "segtrans = Compose([EnsureChannelFirst()])"
   ]
  },
  {
   "cell_type": "code",
   "execution_count": 7,
   "metadata": {},
   "outputs": [],
   "source": [
    "# 创建数据加载器\n",
    "val_ds = ImageDataset(images, segs, transform=imtrans, seg_transform=segtrans, image_only=False)\n",
    "val_loader = DataLoader(val_ds, batch_size=1, num_workers=1, pin_memory=torch.cuda.is_available())"
   ]
  },
  {
   "cell_type": "code",
   "execution_count": 8,
   "metadata": {},
   "outputs": [],
   "source": [
    "# 创建平均dice评价指标，保存器 get_not_nans 是否返回not nans 的个数 \n",
    "dice_metric = DiceMetric(include_background=True, reduction=\"mean\", get_not_nans=False)\n",
    "post_trans = Compose([Activations(sigmoid=True), AsDiscrete(threshold=0.5)])\n",
    "saver = SaveImage(output_dir=\"./output\", output_ext=\".nii.gz\", output_postfix=\"seg\")\n",
    "device = torch.device(\"cuda\" if torch.cuda.is_available() else \"cpu\")"
   ]
  },
  {
   "cell_type": "code",
   "execution_count": 9,
   "metadata": {},
   "outputs": [],
   "source": [
    "# 定义模型\n",
    "model = UNet(\n",
    "        spatial_dims=3,\n",
    "        in_channels=1,\n",
    "        out_channels=1,\n",
    "        channels=(16, 32, 64, 128, 256),\n",
    "        strides=(2, 2, 2, 2),\n",
    "        num_res_units=2,\n",
    "    ).to(device)"
   ]
  },
  {
   "cell_type": "code",
   "execution_count": 10,
   "metadata": {},
   "outputs": [
    {
     "name": "stdout",
     "output_type": "stream",
     "text": [
      "2022-09-22 20:00:56,983 INFO image_writer.py:194 - writing: output\\im0\\im0_seg.nii.gz\n",
      "2022-09-22 20:00:57,241 INFO image_writer.py:194 - writing: output\\im1\\im1_seg.nii.gz\n",
      "2022-09-22 20:00:57,430 INFO image_writer.py:194 - writing: output\\im2\\im2_seg.nii.gz\n",
      "2022-09-22 20:00:57,635 INFO image_writer.py:194 - writing: output\\im3\\im3_seg.nii.gz\n",
      "2022-09-22 20:00:57,819 INFO image_writer.py:194 - writing: output\\im4\\im4_seg.nii.gz\n",
      "evaluation metric: 0.8846399188041687\n"
     ]
    }
   ],
   "source": [
    "# 加载训练好的权重\n",
    "model.load_state_dict(torch.load(\"best_metric_model_segmentation3d_array.pth\"))\n",
    "model.eval()\n",
    "with torch.no_grad():\n",
    "    for val_data in val_loader:\n",
    "        val_images, val_labels = val_data[0].to(device), val_data[1].to(device)\n",
    "        # 每次迭代时对一张图像进行滑动窗口推理\n",
    "        # 定义窗口推理的滑动窗口大小和批量大小\n",
    "        roi_size = (96, 96, 96)\n",
    "        sw_batch_size = 4\n",
    "        val_outputs = sliding_window_inference(val_images, roi_size, sw_batch_size, model)\n",
    "        val_outputs = [post_trans(i) for i in decollate_batch(val_outputs)]\n",
    "        val_labels = decollate_batch(val_labels)\n",
    "        # 计算当前迭代的指标\n",
    "        dice_metric(y_pred=val_outputs, y=val_labels)\n",
    "        # 保存\n",
    "        for val_output in val_outputs:\n",
    "            saver(val_output)\n",
    "    # 汇总最终的平均dice结果\n",
    "    print(\"evaluation metric:\", dice_metric.aggregate().item())\n",
    "    # 重置状态\n",
    "    dice_metric.reset()"
   ]
  },
  {
   "cell_type": "code",
   "execution_count": 11,
   "metadata": {},
   "outputs": [],
   "source": [
    "from torchsummary import summary"
   ]
  },
  {
   "cell_type": "code",
   "execution_count": 36,
   "metadata": {},
   "outputs": [
    {
     "name": "stdout",
     "output_type": "stream",
     "text": [
      "----------------------------------------------------------------\n",
      "        Layer (type)               Output Shape         Param #\n",
      "================================================================\n",
      "            Conv3d-1        [1, 16, 48, 48, 48]             448\n",
      "            Conv3d-2        [1, 16, 48, 48, 48]             448\n",
      "    InstanceNorm3d-3        [1, 16, 48, 48, 48]               0\n",
      "           Dropout-4        [1, 16, 48, 48, 48]               0\n",
      "             PReLU-5        [1, 16, 48, 48, 48]               1\n",
      "            Conv3d-6        [1, 16, 48, 48, 48]           6,928\n",
      "    InstanceNorm3d-7        [1, 16, 48, 48, 48]               0\n",
      "           Dropout-8        [1, 16, 48, 48, 48]               0\n",
      "             PReLU-9        [1, 16, 48, 48, 48]               1\n",
      "     ResidualUnit-10        [1, 16, 48, 48, 48]               0\n",
      "           Conv3d-11        [1, 32, 24, 24, 24]          13,856\n",
      "           Conv3d-12        [1, 32, 24, 24, 24]          13,856\n",
      "   InstanceNorm3d-13        [1, 32, 24, 24, 24]               0\n",
      "          Dropout-14        [1, 32, 24, 24, 24]               0\n",
      "            PReLU-15        [1, 32, 24, 24, 24]               1\n",
      "           Conv3d-16        [1, 32, 24, 24, 24]          27,680\n",
      "   InstanceNorm3d-17        [1, 32, 24, 24, 24]               0\n",
      "          Dropout-18        [1, 32, 24, 24, 24]               0\n",
      "            PReLU-19        [1, 32, 24, 24, 24]               1\n",
      "     ResidualUnit-20        [1, 32, 24, 24, 24]               0\n",
      "           Conv3d-21        [1, 64, 12, 12, 12]          55,360\n",
      "           Conv3d-22        [1, 64, 12, 12, 12]          55,360\n",
      "   InstanceNorm3d-23        [1, 64, 12, 12, 12]               0\n",
      "          Dropout-24        [1, 64, 12, 12, 12]               0\n",
      "            PReLU-25        [1, 64, 12, 12, 12]               1\n",
      "           Conv3d-26        [1, 64, 12, 12, 12]         110,656\n",
      "   InstanceNorm3d-27        [1, 64, 12, 12, 12]               0\n",
      "          Dropout-28        [1, 64, 12, 12, 12]               0\n",
      "            PReLU-29        [1, 64, 12, 12, 12]               1\n",
      "     ResidualUnit-30        [1, 64, 12, 12, 12]               0\n",
      "           Conv3d-31          [1, 128, 6, 6, 6]         221,312\n",
      "           Conv3d-32          [1, 128, 6, 6, 6]         221,312\n",
      "   InstanceNorm3d-33          [1, 128, 6, 6, 6]               0\n",
      "          Dropout-34          [1, 128, 6, 6, 6]               0\n",
      "            PReLU-35          [1, 128, 6, 6, 6]               1\n",
      "           Conv3d-36          [1, 128, 6, 6, 6]         442,496\n",
      "   InstanceNorm3d-37          [1, 128, 6, 6, 6]               0\n",
      "          Dropout-38          [1, 128, 6, 6, 6]               0\n",
      "            PReLU-39          [1, 128, 6, 6, 6]               1\n",
      "     ResidualUnit-40          [1, 128, 6, 6, 6]               0\n",
      "           Conv3d-41          [1, 256, 6, 6, 6]          33,024\n",
      "           Conv3d-42          [1, 256, 6, 6, 6]         884,992\n",
      "   InstanceNorm3d-43          [1, 256, 6, 6, 6]               0\n",
      "          Dropout-44          [1, 256, 6, 6, 6]               0\n",
      "            PReLU-45          [1, 256, 6, 6, 6]               1\n",
      "           Conv3d-46          [1, 256, 6, 6, 6]       1,769,728\n",
      "   InstanceNorm3d-47          [1, 256, 6, 6, 6]               0\n",
      "          Dropout-48          [1, 256, 6, 6, 6]               0\n",
      "            PReLU-49          [1, 256, 6, 6, 6]               1\n",
      "     ResidualUnit-50          [1, 256, 6, 6, 6]               0\n",
      "   SkipConnection-51          [1, 384, 6, 6, 6]               0\n",
      "  ConvTranspose3d-52        [1, 64, 12, 12, 12]         663,616\n",
      "   InstanceNorm3d-53        [1, 64, 12, 12, 12]               0\n",
      "          Dropout-54        [1, 64, 12, 12, 12]               0\n",
      "            PReLU-55        [1, 64, 12, 12, 12]               1\n",
      "         Identity-56        [1, 64, 12, 12, 12]               0\n",
      "           Conv3d-57        [1, 64, 12, 12, 12]         110,656\n",
      "   InstanceNorm3d-58        [1, 64, 12, 12, 12]               0\n",
      "          Dropout-59        [1, 64, 12, 12, 12]               0\n",
      "            PReLU-60        [1, 64, 12, 12, 12]               1\n",
      "     ResidualUnit-61        [1, 64, 12, 12, 12]               0\n",
      "   SkipConnection-62       [1, 128, 12, 12, 12]               0\n",
      "  ConvTranspose3d-63        [1, 32, 24, 24, 24]         110,624\n",
      "   InstanceNorm3d-64        [1, 32, 24, 24, 24]               0\n",
      "          Dropout-65        [1, 32, 24, 24, 24]               0\n",
      "            PReLU-66        [1, 32, 24, 24, 24]               1\n",
      "         Identity-67        [1, 32, 24, 24, 24]               0\n",
      "           Conv3d-68        [1, 32, 24, 24, 24]          27,680\n",
      "   InstanceNorm3d-69        [1, 32, 24, 24, 24]               0\n",
      "          Dropout-70        [1, 32, 24, 24, 24]               0\n",
      "            PReLU-71        [1, 32, 24, 24, 24]               1\n",
      "     ResidualUnit-72        [1, 32, 24, 24, 24]               0\n",
      "   SkipConnection-73        [1, 64, 24, 24, 24]               0\n",
      "  ConvTranspose3d-74        [1, 16, 48, 48, 48]          27,664\n",
      "   InstanceNorm3d-75        [1, 16, 48, 48, 48]               0\n",
      "          Dropout-76        [1, 16, 48, 48, 48]               0\n",
      "            PReLU-77        [1, 16, 48, 48, 48]               1\n",
      "         Identity-78        [1, 16, 48, 48, 48]               0\n",
      "           Conv3d-79        [1, 16, 48, 48, 48]           6,928\n",
      "   InstanceNorm3d-80        [1, 16, 48, 48, 48]               0\n",
      "          Dropout-81        [1, 16, 48, 48, 48]               0\n",
      "            PReLU-82        [1, 16, 48, 48, 48]               1\n",
      "     ResidualUnit-83        [1, 16, 48, 48, 48]               0\n",
      "   SkipConnection-84        [1, 32, 48, 48, 48]               0\n",
      "  ConvTranspose3d-85         [1, 1, 96, 96, 96]             865\n",
      "   InstanceNorm3d-86         [1, 1, 96, 96, 96]               0\n",
      "          Dropout-87         [1, 1, 96, 96, 96]               0\n",
      "            PReLU-88         [1, 1, 96, 96, 96]               1\n",
      "         Identity-89         [1, 1, 96, 96, 96]               0\n",
      "           Conv3d-90         [1, 1, 96, 96, 96]              28\n",
      "     ResidualUnit-91         [1, 1, 96, 96, 96]               0\n",
      "================================================================\n",
      "Total params: 4,805,534\n",
      "Trainable params: 4,805,534\n",
      "Non-trainable params: 0\n",
      "----------------------------------------------------------------\n",
      "Input size (MB): 3.38\n",
      "Forward/backward pass size (MB): 444.02\n",
      "Params size (MB): 18.33\n",
      "Estimated Total Size (MB): 465.73\n",
      "----------------------------------------------------------------\n"
     ]
    }
   ],
   "source": [
    "summary(model, input_size=(1, 96, 96, 96), batch_size=1, device='cuda')\n"
   ]
  },
  {
   "cell_type": "code",
   "execution_count": null,
   "metadata": {},
   "outputs": [],
   "source": []
  }
 ],
 "metadata": {
  "kernelspec": {
   "display_name": "Python 3.8.12 ('pytorch')",
   "language": "python",
   "name": "python3"
  },
  "language_info": {
   "codemirror_mode": {
    "name": "ipython",
    "version": 3
   },
   "file_extension": ".py",
   "mimetype": "text/x-python",
   "name": "python",
   "nbconvert_exporter": "python",
   "pygments_lexer": "ipython3",
   "version": "3.8.12"
  },
  "orig_nbformat": 4,
  "vscode": {
   "interpreter": {
    "hash": "9ebf9cfd872009544a161647ac82c48f4cc096aba58631b69e515c7576d66293"
   }
  }
 },
 "nbformat": 4,
 "nbformat_minor": 2
}
